{
 "metadata": {
  "language_info": {
   "codemirror_mode": {
    "name": "ipython",
    "version": 3
   },
   "file_extension": ".py",
   "mimetype": "text/x-python",
   "name": "python",
   "nbconvert_exporter": "python",
   "pygments_lexer": "ipython3",
   "version": "3.8.5-final"
  },
  "orig_nbformat": 2,
  "kernelspec": {
   "name": "python3",
   "display_name": "Python 3"
  }
 },
 "nbformat": 4,
 "nbformat_minor": 2,
 "cells": [
  {
   "cell_type": "code",
   "execution_count": 1,
   "metadata": {},
   "outputs": [],
   "source": [
    "import os\n",
    "from os import listdir\n",
    "import shutil\n",
    "import copy\n",
    "import numpy as np\n",
    "import random\n",
    "import matplotlib.pyplot as plt\n",
    "import torch\n",
    "import torchvision\n",
    "import torch.nn as nn\n",
    "import torch.optim as optim\n",
    "from torch.optim import lr_scheduler\n",
    "from torchvision import models, transforms, datasets"
   ]
  },
  {
   "cell_type": "code",
   "execution_count": 2,
   "metadata": {},
   "outputs": [],
   "source": [
    "data_dir = os.path.join('kagglecatsanddogs_3367a', 'PetImages')\n",
    "\n",
    "train_dir = os.path.join(data_dir, 'train')\n",
    "valid_dir = os.path.join(data_dir, 'validation')\n",
    "train_dir_cat = os.path.join(train_dir, 'Cat')\n",
    "train_dir_dog = os.path.join(train_dir, 'Dog')\n",
    "valid_dir_cat = os.path.join(valid_dir, 'Cat')\n",
    "valid_dir_dog = os.path.join(valid_dir, 'Dog')\n",
    "\n",
    "try:\n",
    "    os.mkdir(train_dir)\n",
    "    os.mkdir(valid_dir)\n",
    "    os.mkdir(train_dir_cat)\n",
    "    os.mkdir(train_dir_dog)\n",
    "    os.mkdir(valid_dir_cat)\n",
    "    os.mkdir(valid_dir_dog)\n",
    "except FileExistsError:\n",
    "    print('File Exists')\n",
    "\n",
    "dir_cat = os.path.join(data_dir, 'Cat')\n",
    "dir_dog = os.path.join(data_dir, 'Dog')\n",
    "\n",
    "files_cat = [os.path.join(dir_cat, f) for f in os.listdir(dir_cat) if os.path.isfile(os.path.join(dir_cat, f))]\n",
    "files_dog = [os.path.join(dir_dog, f) for f in os.listdir(dir_dog) if os,path.isfile(os.path.join(dir_dog, f))]\n",
    "\n",
    "msk_cat = np.random.rand(len(files_cat)) < 0.8\n",
    "msk_dog = np.random.rand(len(files_dog)) < 0.8\n",
    "\n",
    "rand_item_cats = random.sample(files_cat, int(len(files_cat) * 0.8))\n",
    "rand_item_dogs = random.sample(files_dog, int(len(files_dog) * 0.8))\n",
    "\n",
    "def move_file_list(directory, file_list):\n",
    "    for f in file_list:\n",
    "        f_name = f.split('/')[-1]\n",
    "        shutil.move(f, os.path.join(directory, f_name))\n",
    "\n",
    "move_file_list(train_dir_dog, rand_item_dogs)\n",
    "move_file_list(train_dir_cat, rand_item_cats)\n"
   ]
  },
  {
   "cell_type": "code",
   "execution_count": null,
   "metadata": {},
   "outputs": [],
   "source": []
  }
 ]
}