{
 "cells": [
  {
   "cell_type": "code",
   "execution_count": 3,
   "metadata": {},
   "outputs": [
    {
     "output_type": "stream",
     "name": "stdout",
     "text": "Epoch 1/10\n702/702 [==============================] - 48s 68ms/step - loss: 0.6408 - accuracy: 0.6274 - val_loss: 0.5853 - val_accuracy: 0.6946\nEpoch 2/10\n702/702 [==============================] - 47s 67ms/step - loss: 0.5519 - accuracy: 0.7201 - val_loss: 0.5559 - val_accuracy: 0.7090\nEpoch 3/10\n702/702 [==============================] - 47s 67ms/step - loss: 0.5022 - accuracy: 0.7545 - val_loss: 0.5178 - val_accuracy: 0.7443\nEpoch 4/10\n702/702 [==============================] - 47s 67ms/step - loss: 0.4642 - accuracy: 0.7789 - val_loss: 0.5062 - val_accuracy: 0.7547\nEpoch 5/10\n702/702 [==============================] - 47s 67ms/step - loss: 0.4259 - accuracy: 0.8004 - val_loss: 0.4852 - val_accuracy: 0.7651\nEpoch 6/10\n702/702 [==============================] - 47s 67ms/step - loss: 0.3894 - accuracy: 0.8200 - val_loss: 0.4867 - val_accuracy: 0.7695\nEpoch 7/10\n702/702 [==============================] - 47s 67ms/step - loss: 0.3590 - accuracy: 0.8386 - val_loss: 0.4954 - val_accuracy: 0.7780\nEpoch 8/10\n702/702 [==============================] - 47s 67ms/step - loss: 0.3197 - accuracy: 0.8560 - val_loss: 0.5014 - val_accuracy: 0.7884\nEpoch 9/10\n702/702 [==============================] - 47s 67ms/step - loss: 0.2961 - accuracy: 0.8680 - val_loss: 0.5008 - val_accuracy: 0.7764\nEpoch 10/10\n702/702 [==============================] - 48s 68ms/step - loss: 0.2675 - accuracy: 0.8847 - val_loss: 0.5144 - val_accuracy: 0.7904\n"
    },
    {
     "output_type": "execute_result",
     "data": {
      "text/plain": "<tensorflow.python.keras.callbacks.History at 0x7f74a2c61fd0>"
     },
     "metadata": {},
     "execution_count": 3
    }
   ],
   "source": [
    "import numpy as np\n",
    "import tensorflow as tf\n",
    "from tensorflow.keras.models import Sequential\n",
    "from tensorflow.keras.layers import Dense, Dropout, Activation, Flatten, Conv2D, MaxPooling2D\n",
    "from tensorflow.keras.callbacks import TensorBoard\n",
    "import pickle\n",
    "import time\n",
    "from sklearn.model_selection import train_test_split\n",
    "\n",
    "name = f\"cats-vs-dog-with-tensorboard-{int(time.time())}\"\n",
    "\n",
    "tensorboard = TensorBoard(log_dir=f'gvclogs/{name}.')\n",
    "\n",
    "X = np.array(pickle.load(open(\"X.pickle\", \"rb\")))\n",
    "y = np.array(pickle.load(open(\"y.pickle\", \"rb\")))\n",
    "\n",
    "X = X/255.0\n",
    "\n",
    "model = Sequential()\n",
    "\n",
    "model.add(Conv2D(64, (5, 5), strides=(1, 1), activation='relu', input_shape = X.shape[1:]))\n",
    "model.add(MaxPooling2D(pool_size=(2, 2), strides=(2, 2)))\n",
    "\n",
    "model.add(Conv2D(64, (5, 5), strides=(2, 2), activation='relu'))\n",
    "model.add(MaxPooling2D(pool_size=(2, 2)))\n",
    "\n",
    "model.add(Flatten())\n",
    "model.add(Dense(64, activation='relu'))\n",
    "model.add(Dropout(0.25))\n",
    "\n",
    "model.add(Dense(1, activation='sigmoid'))\n",
    "\n",
    "model.compile(loss='binary_crossentropy',\n",
    "             optimizer='adam',\n",
    "             metrics=['accuracy'])\n",
    "\n",
    "#x_train, x_test, y_train, y_test = train_test_split(X, y, test_size=0.1)\n",
    "\n",
    "model.fit(X, y, batch_size=32, epochs=10, validation_split=0.1, callbacks=[tensorboard])"
   ]
  },
  {
   "cell_type": "code",
   "execution_count": 12,
   "metadata": {},
   "outputs": [
    {
     "name": "stdout",
     "output_type": "stream",
     "text": [
      "WARNING:tensorflow:From /home/paul/.local/lib/python3.8/site-packages/tensorflow/python/ops/resource_variable_ops.py:1813: calling BaseResourceVariable.__init__ (from tensorflow.python.ops.resource_variable_ops) with constraint is deprecated and will be removed in a future version.\n",
      "Instructions for updating:\n",
      "If using Keras pass *_constraint arguments to layers.\n",
      "INFO:tensorflow:Assets written to: CatsvDogs/assets\n"
     ]
    }
   ],
   "source": [
    "model.save('CatsvDogs')"
   ]
  },
  {
   "cell_type": "code",
   "execution_count": 14,
   "metadata": {},
   "outputs": [],
   "source": [
    "prediction = model.predict([X[:-1]])"
   ]
  },
  {
   "cell_type": "code",
   "execution_count": 15,
   "metadata": {},
   "outputs": [
    {
     "name": "stdout",
     "output_type": "stream",
     "text": [
      "[[0.0106433 ]\n",
      " [0.24636489]\n",
      " [0.05652991]\n",
      " ...\n",
      " [0.6447019 ]\n",
      " [0.97428083]\n",
      " [0.9062601 ]]\n"
     ]
    }
   ],
   "source": [
    "print(prediction)"
   ]
  },
  {
   "cell_type": "code",
   "execution_count": 16,
   "metadata": {},
   "outputs": [
    {
     "data": {
      "text/plain": [
       "<function matplotlib.pyplot.show(*args, **kw)>"
      ]
     },
     "execution_count": 16,
     "metadata": {},
     "output_type": "execute_result"
    },
    {
     "data": {
      "image/png": "[encoded data removed]",
      "text/plain": [
       "<Figure size 432x288 with 1 Axes>"
      ]
     },
     "metadata": {
      "needs_background": "light"
     },
     "output_type": "display_data"
    }
   ],
   "source": [
    "import matplotlib.pyplot as plt\n",
    "\n",
    "plt.imshow(prediction)\n",
    "plt.show"
   ]
  },
  {
   "cell_type": "code",
   "execution_count": 17,
   "metadata": {},
   "outputs": [
    {
     "name": "stdout",
     "output_type": "stream",
     "text": [
      "3877\n"
     ]
    }
   ],
   "source": [
    "print(np.argmax(prediction))"
   ]
  },
  {
   "cell_type": "code",
   "execution_count": null,
   "metadata": {},
   "outputs": [],
   "source": []
  }
 ],
 "metadata": {
  "kernelspec": {
   "display_name": "Python 3.8.5 64-bit",
   "language": "python",
   "name": "python38564bit2983776f7d11450ab6999cef2bac2d64"
  },
  "language_info": {
   "codemirror_mode": {
    "name": "ipython",
    "version": 3
   },
   "file_extension": ".py",
   "mimetype": "text/x-python",
   "name": "python",
   "nbconvert_exporter": "python",
   "pygments_lexer": "ipython3",
   "version": "3.8.5-final"
  }
 },
 "nbformat": 4,
 "nbformat_minor": 4
}