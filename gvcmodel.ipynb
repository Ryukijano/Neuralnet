{
 "cells": [
  {
   "cell_type": "code",
   "execution_count": 3,
   "metadata": {
    "tags": []
   },
   "outputs": [
    {
     "output_type": "stream",
     "name": "stdout",
     "text": "Epoch 1/10\n702/702 [==============================] - 100s 142ms/step - loss: 0.6149 - accuracy: 0.6754 - val_loss: 0.5879 - val_accuracy: 0.6766\nEpoch 2/10\n702/702 [==============================] - 98s 140ms/step - loss: 0.5184 - accuracy: 0.7470 - val_loss: 0.6499 - val_accuracy: 0.6285\nEpoch 3/10\n702/702 [==============================] - 101s 144ms/step - loss: 0.4693 - accuracy: 0.7763 - val_loss: 0.5034 - val_accuracy: 0.7531\nEpoch 4/10\n702/702 [==============================] - 103s 146ms/step - loss: 0.4267 - accuracy: 0.8011 - val_loss: 0.5549 - val_accuracy: 0.7299\nEpoch 5/10\n702/702 [==============================] - 99s 140ms/step - loss: 0.3813 - accuracy: 0.8229 - val_loss: 1.2818 - val_accuracy: 0.6236\nEpoch 6/10\n702/702 [==============================] - 99s 141ms/step - loss: 0.3438 - accuracy: 0.8465 - val_loss: 0.7580 - val_accuracy: 0.6974\nEpoch 7/10\n702/702 [==============================] - 99s 141ms/step - loss: 0.2970 - accuracy: 0.8714 - val_loss: 0.9141 - val_accuracy: 0.6673\nEpoch 8/10\n702/702 [==============================] - 100s 142ms/step - loss: 0.2528 - accuracy: 0.8926 - val_loss: 0.5547 - val_accuracy: 0.7238\nEpoch 9/10\n702/702 [==============================] - 99s 141ms/step - loss: 0.2181 - accuracy: 0.9082 - val_loss: 0.5477 - val_accuracy: 0.7768\nEpoch 10/10\n702/702 [==============================] - 103s 146ms/step - loss: 0.1849 - accuracy: 0.9221 - val_loss: 0.6178 - val_accuracy: 0.7924\n"
    },
    {
     "output_type": "execute_result",
     "data": {
      "text/plain": "<tensorflow.python.keras.callbacks.History at 0x7fded3f3a370>"
     },
     "metadata": {},
     "execution_count": 3
    }
   ],
   "source": [
    "import numpy as np\n",
    "import tensorflow as tf\n",
    "from tensorflow.keras.models import Sequential\n",
    "from tensorflow.keras.layers import Dense, Dropout, Activation, Flatten, Conv2D, MaxPooling2D, BatchNormalization\n",
    "from tensorflow.keras.callbacks import TensorBoard\n",
    "import pickle\n",
    "import time\n",
    "from sklearn.model_selection import train_test_split\n",
    "\n",
    "name = f\"cats-vs-dog-with-tensorboard-{int(time.time())}\"\n",
    "\n",
    "tensorboard = TensorBoard(log_dir=f'gvclogs/{name}.')\n",
    "\n",
    "X = np.array(pickle.load(open(\"X.pickle\", \"rb\")))\n",
    "y = np.array(pickle.load(open(\"y.pickle\", \"rb\")))\n",
    "\n",
    "X = X/255.0\n",
    "\n",
    "model = Sequential()\n",
    "\n",
    "model.add(Conv2D(64, (5, 5), strides=(1, 1), activation='relu', input_shape = X.shape[1:]))\n",
    "model.add(BatchNormalization())\n",
    "model.add(MaxPooling2D(pool_size=(2, 2), strides=(2, 2)))\n",
    "\n",
    "model.add(Conv2D(64, (5, 5), strides=(2, 2), activation='relu'))\n",
    "model.add(BatchNormalization())\n",
    "model.add(MaxPooling2D(pool_size=(2, 2)))\n",
    "\n",
    "model.add(Flatten())\n",
    "model.add(Dense(64, activation='relu'))\n",
    "model.add(Dropout(0.25))\n",
    "\n",
    "model.add(Dense(1, activation='sigmoid'))\n",
    "\n",
    "model.compile(loss='binary_crossentropy',\n",
    "             optimizer='adam',\n",
    "             metrics=['accuracy'])\n",
    "\n",
    "#x_train, x_test, y_train, y_test = train_test_split(X, y, test_size=0.1)\n",
    "\n",
    "model.fit(X, y, batch_size=32, epochs=10, validation_split=0.1, callbacks=[tensorboard])"
   ]
  },
  {
   "cell_type": "code",
   "execution_count": 4,
   "metadata": {
    "tags": []
   },
   "outputs": [
    {
     "output_type": "stream",
     "name": "stdout",
     "text": "WARNING:tensorflow:From /usr/local/lib/python3.8/dist-packages/tensorflow/python/training/tracking/tracking.py:111: Model.state_updates (from tensorflow.python.keras.engine.training) is deprecated and will be removed in a future version.\nInstructions for updating:\nThis property should not be used in TensorFlow 2.0, as updates are applied automatically.\nWARNING:tensorflow:From /usr/local/lib/python3.8/dist-packages/tensorflow/python/training/tracking/tracking.py:111: Layer.updates (from tensorflow.python.keras.engine.base_layer) is deprecated and will be removed in a future version.\nInstructions for updating:\nThis property should not be used in TensorFlow 2.0, as updates are applied automatically.\nINFO:tensorflow:Assets written to: NewCatsvDogs/assets\n"
    }
   ],
   "source": [
    "model.save('NewCatsvDogs')"
   ]
  },
  {
   "cell_type": "code",
   "execution_count": 5,
   "metadata": {},
   "outputs": [],
   "source": [
    "prediction = model.predict([X[:-1]])"
   ]
  },
  {
   "cell_type": "code",
   "execution_count": 6,
   "metadata": {
    "tags": []
   },
   "outputs": [
    {
     "output_type": "stream",
     "name": "stdout",
     "text": "[[4.1148067e-04]\n [8.6247921e-04]\n [2.5194883e-04]\n ...\n [2.8096813e-01]\n [9.9821389e-01]\n [9.1613114e-01]]\n"
    }
   ],
   "source": [
    "print(prediction)"
   ]
  },
  {
   "cell_type": "code",
   "execution_count": 16,
   "metadata": {},
   "outputs": [
    {
     "data": {
      "text/plain": [
       "<function matplotlib.pyplot.show(*args, **kw)>"
      ]
     },
     "execution_count": 16,
     "metadata": {},
     "output_type": "execute_result"
    },
    {
     "data": {
      "image/png": "[encoded data removed]",
      "text/plain": [
       "<Figure size 432x288 with 1 Axes>"
      ]
     },
     "metadata": {
      "needs_background": "light"
     },
     "output_type": "display_data"
    }
   ],
   "source": [
    "import matplotlib.pyplot as plt\n",
    "\n",
    "plt.imshow(prediction)\n",
    "plt.show"
   ]
  },
  {
   "cell_type": "code",
   "execution_count": 9,
   "metadata": {
    "tags": []
   },
   "outputs": [
    {
     "output_type": "stream",
     "name": "stdout",
     "text": "255\n"
    }
   ],
   "source": [
    "print(np.argmax(prediction))"
   ]
  },
  {
   "cell_type": "code",
   "execution_count": null,
   "metadata": {},
   "outputs": [],
   "source": []
  }
 ],
 "metadata": {
  "kernelspec": {
   "display_name": "Python 3",
   "language": "python",
   "name": "python3"
  },
  "language_info": {
   "codemirror_mode": {
    "name": "ipython",
    "version": 3
   },
   "file_extension": ".py",
   "mimetype": "text/x-python",
   "name": "python",
   "nbconvert_exporter": "python",
   "pygments_lexer": "ipython3",
   "version": "3.8.5-final"
  }
 },
 "nbformat": 4,
 "nbformat_minor": 4
}