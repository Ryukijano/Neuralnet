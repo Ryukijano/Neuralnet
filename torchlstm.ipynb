{
 "metadata": {
  "language_info": {
   "codemirror_mode": {
    "name": "ipython",
    "version": 3
   },
   "file_extension": ".py",
   "mimetype": "text/x-python",
   "name": "python",
   "nbconvert_exporter": "python",
   "pygments_lexer": "ipython3",
   "version": "3.8.5-final"
  },
  "orig_nbformat": 2,
  "kernelspec": {
   "name": "python3",
   "display_name": "Python 3"
  }
 },
 "nbformat": 4,
 "nbformat_minor": 2,
 "cells": [
  {
   "cell_type": "code",
   "execution_count": 2,
   "metadata": {},
   "outputs": [
    {
     "output_type": "execute_result",
     "data": {
      "text/plain": "<torch._C.Generator at 0x7f821b7fcf10>"
     },
     "metadata": {},
     "execution_count": 2
    }
   ],
   "source": [
    "import torch\n",
    "import torch.nn as nn\n",
    "import torch.nn.functional as F\n",
    "import torch.optim as optim\n",
    "import numpy as np\n",
    "\n",
    "torch.manual_seed(1)"
   ]
  },
  {
   "cell_type": "code",
   "execution_count": 3,
   "metadata": {
    "tags": []
   },
   "outputs": [
    {
     "output_type": "stream",
     "name": "stdout",
     "text": "{'My': 0, 'grandmother': 1, 'ate': 2, 'the': 3, 'polemta': 4, 'Marina': 5, 'read': 6, 'my': 7, 'book': 8}\n"
    }
   ],
   "source": [
    "def prepare_sequence(seq, to_ix):\n",
    "    idxs = [to_ix[w] for w in seq]\n",
    "    return torch.tensor(idxs, dtype=torch.long)\n",
    "\n",
    "training_data = [\n",
    "    ('My grandmother ate the polemta'.split(), ['DET', 'NN', 'V', 'DET', 'NN']),\n",
    "    ('Marina read my book'.split(), ['NN', 'V', 'DET', 'NN'])\n",
    "]\n",
    "\n",
    "word_index = {}\n",
    "for sent, tags in training_data:\n",
    "    for word in sent:\n",
    "        if word not in word_index:\n",
    "            word_index[word] = len(word_index)\n",
    "\n",
    "print(word_index)\n",
    "tag_to_ix = {'DET':0, 'NN':1, 'V':2}\n",
    "\n",
    "EMBEDDING_DIM = 6\n",
    "HIDDEN_DIM = 6"
   ]
  },
  {
   "cell_type": "code",
   "execution_count": 4,
   "metadata": {},
   "outputs": [],
   "source": [
    "\n",
    "#Defining the lstm model\n",
    "class LSTMtagger(nn.Module):\n",
    "\n",
    "    def __init__(self, embedding_dim, hidden_dim, vocab_Size, tagset_size):\n",
    "        super(LSTMtagger, self).__init__()\n",
    "        self.hidden_dim = hidden_dim\n",
    "\n",
    "        self.word_embeddings = nn.Embedding(vocab_Size, embedding_dim)\n",
    "        #the lstm takes word embeddings as inputs, and outputs as hidden states\n",
    "        #with dimesionality hidden_dim\n",
    "        self.lstm = nn.LSTM(embedding_dim, hidden_dim)\n",
    "\n",
    "        #the linear layer that maps from hidden state space to tag_space\n",
    "        self.hidden2tag = nn.Linear(hidden_dim, tagset_size)\n",
    "\n",
    "    def forward(self, sentence):\n",
    "        embeds = self.word_embeddings(sentence)\n",
    "        lstm_out, _ = self.lstm(embeds.view(len(sentence), 1, -1))\n",
    "        tag_space = self.hidden2tag(lstm_out.view(len(sentence), -1))\n",
    "        tag_scores = F.log_softmax(tag_space, dim=1)\n",
    "        return tag_scores"
   ]
  },
  {
   "cell_type": "code",
   "execution_count": 5,
   "metadata": {
    "tags": []
   },
   "outputs": [
    {
     "output_type": "stream",
     "name": "stdout",
     "text": "tensor([[-0.3892, -1.2426, -3.3890],\n        [-2.1082, -0.1328, -5.8464],\n        [-3.0852, -5.9469, -0.0495],\n        [-0.0499, -3.4414, -4.0961],\n        [-2.4540, -0.0929, -5.8799]])\n"
    }
   ],
   "source": [
    "#TRaining the model\n",
    "\n",
    "model = LSTMtagger(EMBEDDING_DIM, HIDDEN_DIM, len(word_index), len(tag_to_ix))\n",
    "loss = nn.NLLLoss()\n",
    "optimizer = optim.SGD(model.parameters(), lr=0.1)\n",
    "\n",
    "for epoch in range(300):\n",
    "    for sentence, tags in training_data:\n",
    "        #clearing gardients before each instance\n",
    "        model.zero_grad()\n",
    "        #Turn our inputs into tensors of word indices\n",
    "        sentence_in = prepare_sequence(sentence, word_index)\n",
    "        targets = prepare_sequence(tags, tag_to_ix)\n",
    "        #Run our forward pass\n",
    "        tag_scores = model(sentence_in)\n",
    "        #compute loss, gradient, and update parameters by calling optimizer.step()\n",
    "        losscalc = loss(tag_scores, targets)\n",
    "        losscalc.backward()\n",
    "        optimizer.step()\n",
    "\n",
    "\n",
    "with torch.no_grad():\n",
    "    inputs = prepare_sequence(training_data[0][0], word_index)\n",
    "    tag_scores = model(inputs)\n",
    "\n",
    "    print(tag_scores)"
   ]
  },
  {
   "cell_type": "code",
   "execution_count": 9,
   "metadata": {
    "tags": []
   },
   "outputs": [
    {
     "output_type": "stream",
     "name": "stdout",
     "text": "My: DET\ngrandmother: NN\nate: V\nthe: DET\npolemta: NN\n"
    }
   ],
   "source": [
    "import numpy as np\n",
    "\n",
    "ix_to_tag = {0: \"DET\", 1: \"NN\", 2: \"V\"}\n",
    "\n",
    "def get_max_prob_result(inp, ix_to_tag):\n",
    "    idx_max = np.argmax(inp, axis=0)\n",
    "    return ix_to_tag[idx_max]\n",
    "\n",
    "test_sentence = training_data[0][0]\n",
    "inputs = prepare_sequence(test_sentence, word_index)\n",
    "tag_scores = model(inputs)\n",
    "for i in range(len(test_sentence)):\n",
    "    print(f'{test_sentence[i]}: {get_max_prob_result(tag_scores[i].data.numpy(), ix_to_tag)}')"
   ]
  },
  {
   "cell_type": "code",
   "execution_count": null,
   "metadata": {},
   "outputs": [],
   "source": []
  }
 ]
}